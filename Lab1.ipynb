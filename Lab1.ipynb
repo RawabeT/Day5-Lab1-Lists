{
 "cells": [
  {
   "cell_type": "code",
   "execution_count": 7,
   "id": "1bc9da41",
   "metadata": {},
   "outputs": [
    {
     "name": "stdout",
     "output_type": "stream",
     "text": [
      "139\n",
      "45\n",
      "[4, 30, 2, 10]\n",
      "[5, 4, 17, 19, 30]\n"
     ]
    }
   ],
   "source": [
    "lst = [5, 4, 17, 19, 30, 2, 7, 10, 45]\n",
    "\n",
    "#sum\n",
    "total = sum(lst)\n",
    "print(total)\n",
    "\n",
    "#largest number\n",
    "largest = max(lst)\n",
    "print(largest)\n",
    "\n",
    "#list comprehension\n",
    "comprehension = [x for x in lst if (x%2 == 0)]\n",
    "print(comprehension)\n",
    "\n",
    "#slicing\n",
    "slicing = lst[:5]\n",
    "print(slicing)"
   ]
  }
 ],
 "metadata": {
  "kernelspec": {
   "display_name": "Python 3 (ipykernel)",
   "language": "python",
   "name": "python3"
  },
  "language_info": {
   "codemirror_mode": {
    "name": "ipython",
    "version": 3
   },
   "file_extension": ".py",
   "mimetype": "text/x-python",
   "name": "python",
   "nbconvert_exporter": "python",
   "pygments_lexer": "ipython3",
   "version": "3.9.12"
  }
 },
 "nbformat": 4,
 "nbformat_minor": 5
}
